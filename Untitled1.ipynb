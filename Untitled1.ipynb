{
  "nbformat": 4,
  "nbformat_minor": 0,
  "metadata": {
    "colab": {
      "provenance": [],
      "authorship_tag": "ABX9TyNVRrmLR6ifPKzL1cbqdq99",
      "include_colab_link": true
    },
    "kernelspec": {
      "name": "python3",
      "display_name": "Python 3"
    },
    "language_info": {
      "name": "python"
    }
  },
  "cells": [
    {
      "cell_type": "markdown",
      "metadata": {
        "id": "view-in-github",
        "colab_type": "text"
      },
      "source": [
        "<a href=\"https://colab.research.google.com/github/jamalhussainshah/singtrade/blob/develop/Untitled1.ipynb\" target=\"_parent\"><img src=\"https://colab.research.google.com/assets/colab-badge.svg\" alt=\"Open In Colab\"/></a>"
      ]
    },
    {
      "cell_type": "code",
      "execution_count": 1,
      "metadata": {
        "colab": {
          "base_uri": "https://localhost:8080/"
        },
        "id": "B1MeETVUWlCe",
        "outputId": "ddbf041b-1cf5-4117-e6ec-01a9f68c7d91"
      },
      "outputs": [
        {
          "output_type": "stream",
          "name": "stdout",
          "text": [
            "User ID 12345 not accessible\n",
            "User ID 12346 not accessible\n",
            "User ID 12347 not accessible\n",
            "User ID 12348 not accessible\n",
            "User ID 12349 not accessible\n"
          ]
        }
      ],
      "source": [
        "import requests\n",
        "\n",
        "base_url = \"http://example.com/api/user/profile?user_id=\"\n",
        "\n",
        "for user_id in range(12345, 12350):  # Test a range of IDs\n",
        "    url = f\"{base_url}{user_id}\"\n",
        "    response = requests.get(url)\n",
        "\n",
        "    if response.status_code == 200:\n",
        "        print(f\"Data for user_id {user_id}: {response.json()}\")\n",
        "    else:\n",
        "        print(f\"User ID {user_id} not accessible\")\n"
      ]
    },
    {
      "cell_type": "code",
      "source": [
        "import requests\n",
        "import json\n",
        "from time import sleep\n",
        "\n",
        "# API endpoint and headers with a sample token\n",
        "base_url = \"http://example.com/api/user/profile\"\n",
        "headers = {\n",
        "    \"Authorization\": \"Bearer YOUR_AUTH_TOKEN\",  # Replace with a real token\n",
        "    \"Content-Type\": \"application/json\"\n",
        "}\n",
        "\n",
        "# Function to test data exposure by modifying user_id\n",
        "def test_data_exposure(start_id, end_id):\n",
        "    for user_id in range(start_id, end_id + 1):\n",
        "        params = {\"user_id\": user_id}\n",
        "        response = requests.get(base_url, headers=headers, params=params)\n",
        "\n",
        "        # Log and print results based on status\n",
        "        if response.status_code == 200:\n",
        "            data = response.json()\n",
        "            print(f\"User ID {user_id} data exposed:\\n{json.dumps(data, indent=2)}\\n\")\n",
        "        elif response.status_code == 403:\n",
        "            print(f\"User ID {user_id}: Access Forbidden (403)\")\n",
        "        elif response.status_code == 404:\n",
        "            print(f\"User ID {user_id}: Not Found (404)\")\n",
        "        else:\n",
        "            print(f\"User ID {user_id}: Unexpected response {response.status_code}\")\n",
        "\n",
        "        # Avoid triggering rate limits by adding delay\n",
        "        sleep(1)\n",
        "\n",
        "# Test with a range of user IDs (for example, from 12345 to 12355)\n",
        "test_data_exposure(12345, 12355)\n"
      ],
      "metadata": {
        "colab": {
          "base_uri": "https://localhost:8080/"
        },
        "id": "pglB6HlhXjON",
        "outputId": "2bfdcf12-5ba9-48b7-a40f-ac945f232b9e"
      },
      "execution_count": 2,
      "outputs": [
        {
          "output_type": "stream",
          "name": "stdout",
          "text": [
            "User ID 12345: Not Found (404)\n",
            "User ID 12346: Not Found (404)\n",
            "User ID 12347: Not Found (404)\n",
            "User ID 12348: Not Found (404)\n",
            "User ID 12349: Not Found (404)\n",
            "User ID 12350: Not Found (404)\n",
            "User ID 12351: Not Found (404)\n",
            "User ID 12352: Not Found (404)\n",
            "User ID 12353: Not Found (404)\n",
            "User ID 12354: Not Found (404)\n",
            "User ID 12355: Not Found (404)\n"
          ]
        }
      ]
    },
    {
      "cell_type": "code",
      "source": [],
      "metadata": {
        "id": "6yv55yLrXqf7"
      },
      "execution_count": 2,
      "outputs": []
    },
    {
      "cell_type": "code",
      "source": [
        "import requests\n",
        "\n",
        "# Endpoint URL\n",
        "url = \"http://httpbin.org/post\"\n",
        "\n",
        "# Example payload\n",
        "payload = {\n",
        "    \"user_id\": 12345,\n",
        "    \"action\": \"test\",\n",
        "    \"message\": \"Testing POST request\"\n",
        "}\n",
        "\n",
        "# Headers for the request\n",
        "headers = {\n",
        "    \"Content-Type\": \"application/json\"\n",
        "}\n",
        "\n",
        "# Send POST request\n",
        "response = requests.post(url, json=payload, headers=headers)\n",
        "\n",
        "# Check if the request was successful\n",
        "if response.status_code == 200:\n",
        "    # Print the JSON response from the server\n",
        "    print(\"Response JSON:\")\n",
        "    print(response.json())\n",
        "else:\n",
        "    print(f\"Request failed with status code: {response.status_code}\")\n"
      ],
      "metadata": {
        "colab": {
          "base_uri": "https://localhost:8080/"
        },
        "id": "dGRB7I6TZCpC",
        "outputId": "3fa0911e-d001-4088-a2ee-a60e3093857b"
      },
      "execution_count": 3,
      "outputs": [
        {
          "output_type": "stream",
          "name": "stdout",
          "text": [
            "Response JSON:\n",
            "{'args': {}, 'data': '{\"user_id\": 12345, \"action\": \"test\", \"message\": \"Testing POST request\"}', 'files': {}, 'form': {}, 'headers': {'Accept': '*/*', 'Accept-Encoding': 'gzip, deflate', 'Content-Length': '71', 'Content-Type': 'application/json', 'Host': 'httpbin.org', 'User-Agent': 'python-requests/2.32.3', 'X-Amzn-Trace-Id': 'Root=1-67211fcd-1f89ee6037eae06f65295b3b'}, 'json': {'action': 'test', 'message': 'Testing POST request', 'user_id': 12345}, 'origin': '34.86.146.225', 'url': 'http://httpbin.org/post'}\n"
          ]
        }
      ]
    },
    {
      "cell_type": "code",
      "source": [
        "import requests\n",
        "\n",
        "# Example valid URL to test\n",
        "base_url = \"http://httpbin.org/get\"  # Replace with your valid API endpoint\n",
        "\n",
        "for user_id in range(1, 10):  # Example range\n",
        "    response = requests.get(base_url, params={\"user_id\": user_id})\n",
        "\n",
        "    if response.status_code == 200:\n",
        "        print(f\"User ID {user_id} data: {response.json()}\")\n",
        "    else:\n",
        "        print(f\"User ID {user_id}: Access failed with status code {response.status_code}\")\n"
      ],
      "metadata": {
        "colab": {
          "base_uri": "https://localhost:8080/"
        },
        "id": "1JFcGPoBZ-17",
        "outputId": "90eae6cd-587a-452b-a9c5-b5c2ba020424"
      },
      "execution_count": 5,
      "outputs": [
        {
          "output_type": "stream",
          "name": "stdout",
          "text": [
            "User ID 1 data: {'args': {'user_id': '1'}, 'headers': {'Accept': '*/*', 'Accept-Encoding': 'gzip, deflate', 'Host': 'httpbin.org', 'User-Agent': 'python-requests/2.32.3', 'X-Amzn-Trace-Id': 'Root=1-672120c4-1cb8d5a07447dbed74790e6c'}, 'origin': '34.86.146.225', 'url': 'http://httpbin.org/get?user_id=1'}\n",
            "User ID 2 data: {'args': {'user_id': '2'}, 'headers': {'Accept': '*/*', 'Accept-Encoding': 'gzip, deflate', 'Host': 'httpbin.org', 'User-Agent': 'python-requests/2.32.3', 'X-Amzn-Trace-Id': 'Root=1-672120c4-44b5a4e067169e6346f67781'}, 'origin': '34.86.146.225', 'url': 'http://httpbin.org/get?user_id=2'}\n",
            "User ID 3 data: {'args': {'user_id': '3'}, 'headers': {'Accept': '*/*', 'Accept-Encoding': 'gzip, deflate', 'Host': 'httpbin.org', 'User-Agent': 'python-requests/2.32.3', 'X-Amzn-Trace-Id': 'Root=1-672120c4-3a64c72d481ecad876ab948c'}, 'origin': '34.86.146.225', 'url': 'http://httpbin.org/get?user_id=3'}\n",
            "User ID 4 data: {'args': {'user_id': '4'}, 'headers': {'Accept': '*/*', 'Accept-Encoding': 'gzip, deflate', 'Host': 'httpbin.org', 'User-Agent': 'python-requests/2.32.3', 'X-Amzn-Trace-Id': 'Root=1-672120c5-25e53b23203a9ab41b019001'}, 'origin': '34.86.146.225', 'url': 'http://httpbin.org/get?user_id=4'}\n",
            "User ID 5 data: {'args': {'user_id': '5'}, 'headers': {'Accept': '*/*', 'Accept-Encoding': 'gzip, deflate', 'Host': 'httpbin.org', 'User-Agent': 'python-requests/2.32.3', 'X-Amzn-Trace-Id': 'Root=1-672120c5-24870b4d7f6a429c1f2f17e4'}, 'origin': '34.86.146.225', 'url': 'http://httpbin.org/get?user_id=5'}\n",
            "User ID 6 data: {'args': {'user_id': '6'}, 'headers': {'Accept': '*/*', 'Accept-Encoding': 'gzip, deflate', 'Host': 'httpbin.org', 'User-Agent': 'python-requests/2.32.3', 'X-Amzn-Trace-Id': 'Root=1-672120c6-1542191b58ea184a45faf87e'}, 'origin': '34.86.146.225', 'url': 'http://httpbin.org/get?user_id=6'}\n",
            "User ID 7 data: {'args': {'user_id': '7'}, 'headers': {'Accept': '*/*', 'Accept-Encoding': 'gzip, deflate', 'Host': 'httpbin.org', 'User-Agent': 'python-requests/2.32.3', 'X-Amzn-Trace-Id': 'Root=1-672120c6-26f1534224cd8a5d0385791c'}, 'origin': '34.86.146.225', 'url': 'http://httpbin.org/get?user_id=7'}\n",
            "User ID 8 data: {'args': {'user_id': '8'}, 'headers': {'Accept': '*/*', 'Accept-Encoding': 'gzip, deflate', 'Host': 'httpbin.org', 'User-Agent': 'python-requests/2.32.3', 'X-Amzn-Trace-Id': 'Root=1-672120c6-6abfbca55d056cf710a32418'}, 'origin': '34.86.146.225', 'url': 'http://httpbin.org/get?user_id=8'}\n",
            "User ID 9 data: {'args': {'user_id': '9'}, 'headers': {'Accept': '*/*', 'Accept-Encoding': 'gzip, deflate', 'Host': 'httpbin.org', 'User-Agent': 'python-requests/2.32.3', 'X-Amzn-Trace-Id': 'Root=1-672120c8-4c90215c43aba91b088f4015'}, 'origin': '34.86.146.225', 'url': 'http://httpbin.org/get?user_id=9'}\n"
          ]
        }
      ]
    },
    {
      "cell_type": "code",
      "source": [
        "import requests\n",
        "\n",
        "# Example API endpoint (update with the correct endpoint)\n",
        "base_url = \"http://httpbin.org/get?user_id={user_id}\"\n",
        "\n",
        "# Test user IDs or other parameters\n",
        "for user_id in range(1, 10):\n",
        "    try:\n",
        "        response = requests.get(base_url.format(user_id=user_id))\n",
        "        print(f\"User ID {user_id} status: {response.status_code}\")\n",
        "\n",
        "        if response.status_code == 200:\n",
        "            print(f\"User ID {user_id} data: {response.json()}\")\n",
        "        elif response.status_code == 404:\n",
        "            print(f\"User ID {user_id} not found.\")\n",
        "        elif response.status_code == 403:\n",
        "            print(f\"User ID {user_id} access forbidden.\")\n",
        "        else:\n",
        "            print(f\"User ID {user_id} received unexpected status code: {response.status_code}\")\n",
        "\n",
        "    except Exception as e:\n",
        "        print(f\"An error occurred for User ID {user_id}: {e}\")\n"
      ],
      "metadata": {
        "colab": {
          "base_uri": "https://localhost:8080/"
        },
        "id": "AZV-gBVGapgj",
        "outputId": "eb198bfa-d198-45dc-be72-fdf26ab81203"
      },
      "execution_count": 7,
      "outputs": [
        {
          "output_type": "stream",
          "name": "stdout",
          "text": [
            "User ID 1 status: 200\n",
            "User ID 1 data: {'args': {'user_id': '1'}, 'headers': {'Accept': '*/*', 'Accept-Encoding': 'gzip, deflate', 'Host': 'httpbin.org', 'User-Agent': 'python-requests/2.32.3', 'X-Amzn-Trace-Id': 'Root=1-67212172-40dd62f004225792625018e1'}, 'origin': '34.86.146.225', 'url': 'http://httpbin.org/get?user_id=1'}\n",
            "User ID 2 status: 200\n",
            "User ID 2 data: {'args': {'user_id': '2'}, 'headers': {'Accept': '*/*', 'Accept-Encoding': 'gzip, deflate', 'Host': 'httpbin.org', 'User-Agent': 'python-requests/2.32.3', 'X-Amzn-Trace-Id': 'Root=1-67212172-0f5365356ad7aa8b5f9173ae'}, 'origin': '34.86.146.225', 'url': 'http://httpbin.org/get?user_id=2'}\n",
            "User ID 3 status: 200\n",
            "User ID 3 data: {'args': {'user_id': '3'}, 'headers': {'Accept': '*/*', 'Accept-Encoding': 'gzip, deflate', 'Host': 'httpbin.org', 'User-Agent': 'python-requests/2.32.3', 'X-Amzn-Trace-Id': 'Root=1-67212172-0730823f24df9da92394cd20'}, 'origin': '34.86.146.225', 'url': 'http://httpbin.org/get?user_id=3'}\n",
            "User ID 4 status: 200\n",
            "User ID 4 data: {'args': {'user_id': '4'}, 'headers': {'Accept': '*/*', 'Accept-Encoding': 'gzip, deflate', 'Host': 'httpbin.org', 'User-Agent': 'python-requests/2.32.3', 'X-Amzn-Trace-Id': 'Root=1-67212173-29388cc208d2388276c79ad9'}, 'origin': '34.86.146.225', 'url': 'http://httpbin.org/get?user_id=4'}\n",
            "User ID 5 status: 200\n",
            "User ID 5 data: {'args': {'user_id': '5'}, 'headers': {'Accept': '*/*', 'Accept-Encoding': 'gzip, deflate', 'Host': 'httpbin.org', 'User-Agent': 'python-requests/2.32.3', 'X-Amzn-Trace-Id': 'Root=1-67212173-60514373183f9d8618cc51f3'}, 'origin': '34.86.146.225', 'url': 'http://httpbin.org/get?user_id=5'}\n",
            "User ID 6 status: 200\n",
            "User ID 6 data: {'args': {'user_id': '6'}, 'headers': {'Accept': '*/*', 'Accept-Encoding': 'gzip, deflate', 'Host': 'httpbin.org', 'User-Agent': 'python-requests/2.32.3', 'X-Amzn-Trace-Id': 'Root=1-67212173-228275cb311c1d7b102ecc30'}, 'origin': '34.86.146.225', 'url': 'http://httpbin.org/get?user_id=6'}\n",
            "User ID 7 status: 200\n",
            "User ID 7 data: {'args': {'user_id': '7'}, 'headers': {'Accept': '*/*', 'Accept-Encoding': 'gzip, deflate', 'Host': 'httpbin.org', 'User-Agent': 'python-requests/2.32.3', 'X-Amzn-Trace-Id': 'Root=1-67212173-3a58a989541e2c1c55859404'}, 'origin': '34.86.146.225', 'url': 'http://httpbin.org/get?user_id=7'}\n",
            "User ID 8 status: 200\n",
            "User ID 8 data: {'args': {'user_id': '8'}, 'headers': {'Accept': '*/*', 'Accept-Encoding': 'gzip, deflate', 'Host': 'httpbin.org', 'User-Agent': 'python-requests/2.32.3', 'X-Amzn-Trace-Id': 'Root=1-67212173-024dc2f00c3cd894078c7aa0'}, 'origin': '34.86.146.225', 'url': 'http://httpbin.org/get?user_id=8'}\n",
            "User ID 9 status: 200\n",
            "User ID 9 data: {'args': {'user_id': '9'}, 'headers': {'Accept': '*/*', 'Accept-Encoding': 'gzip, deflate', 'Host': 'httpbin.org', 'User-Agent': 'python-requests/2.32.3', 'X-Amzn-Trace-Id': 'Root=1-67212174-4340169d7177359271f64779'}, 'origin': '34.86.146.225', 'url': 'http://httpbin.org/get?user_id=9'}\n"
          ]
        }
      ]
    }
  ]
}